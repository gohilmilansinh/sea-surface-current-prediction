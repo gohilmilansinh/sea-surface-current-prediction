{
  "cells": [
    {
      "cell_type": "code",
      "execution_count": 3,
      "id": "c97a8591-f465-449d-b9f0-c14141021674",
      "metadata": {
        "id": "c97a8591-f465-449d-b9f0-c14141021674"
      },
      "outputs": [],
      "source": [
        "import torch\n",
        "import torch.nn as nn\n",
        "import torch.optim as optim\n",
        "from torch.utils.data import DataLoader, Dataset\n",
        "import numpy as np\n",
        "from sklearn.metrics import mean_squared_error, mean_absolute_error\n",
        "import xarray as xr"
      ]
    },
    {
      "cell_type": "code",
      "execution_count": 4,
      "id": "051d30a6-b0c9-47d2-a410-dd1ffb087718",
      "metadata": {
        "colab": {
          "base_uri": "https://localhost:8080/",
          "height": 300
        },
        "id": "051d30a6-b0c9-47d2-a410-dd1ffb087718",
        "outputId": "67062fd9-56d2-4d76-b0c3-34c2cf02ec57"
      },
      "outputs": [
        {
          "output_type": "execute_result",
          "data": {
            "text/plain": [
              "<xarray.Dataset> Size: 289MB\n",
              "Dimensions:    (time: 1254, latitude: 120, longitude: 240)\n",
              "Coordinates:\n",
              "  * latitude   (latitude) float32 480B 0.125 0.375 0.625 ... 29.38 29.62 29.88\n",
              "  * longitude  (longitude) float32 960B 40.12 40.38 40.62 ... 99.38 99.62 99.88\n",
              "  * time       (time) datetime64[ns] 10kB 2020-01-01 2020-01-02 ... 2023-06-07\n",
              "Data variables:\n",
              "    adt        (time, latitude, longitude) float64 289MB ...\n",
              "Attributes: (12/45)\n",
              "    Conventions:                     CF-1.6\n",
              "    Metadata_Conventions:            Unidata Dataset Discovery v1.0\n",
              "    cdm_data_type:                   Grid\n",
              "    comment:                         Sea Surface Height measured by Altimetry...\n",
              "    contact:                         http://climate.copernicus.eu/c3s-user-se...\n",
              "    creator_email:                   http://climate.copernicus.eu/c3s-user-se...\n",
              "    ...                              ...\n",
              "    time_coverage_duration:          P1D\n",
              "    time_coverage_end:               1993-01-01T12:00:00Z\n",
              "    time_coverage_resolution:        P1D\n",
              "    time_coverage_start:             1992-12-31T12:00:00Z\n",
              "    title:                           DT merged two satellites Global Ocean Gr...\n",
              "    copernicusmarine_version:        1.3.3"
            ],
            "text/html": [
              "<div><svg style=\"position: absolute; width: 0; height: 0; overflow: hidden\">\n",
              "<defs>\n",
              "<symbol id=\"icon-database\" viewBox=\"0 0 32 32\">\n",
              "<path d=\"M16 0c-8.837 0-16 2.239-16 5v4c0 2.761 7.163 5 16 5s16-2.239 16-5v-4c0-2.761-7.163-5-16-5z\"></path>\n",
              "<path d=\"M16 17c-8.837 0-16-2.239-16-5v6c0 2.761 7.163 5 16 5s16-2.239 16-5v-6c0 2.761-7.163 5-16 5z\"></path>\n",
              "<path d=\"M16 26c-8.837 0-16-2.239-16-5v6c0 2.761 7.163 5 16 5s16-2.239 16-5v-6c0 2.761-7.163 5-16 5z\"></path>\n",
              "</symbol>\n",
              "<symbol id=\"icon-file-text2\" viewBox=\"0 0 32 32\">\n",
              "<path d=\"M28.681 7.159c-0.694-0.947-1.662-2.053-2.724-3.116s-2.169-2.030-3.116-2.724c-1.612-1.182-2.393-1.319-2.841-1.319h-15.5c-1.378 0-2.5 1.121-2.5 2.5v27c0 1.378 1.122 2.5 2.5 2.5h23c1.378 0 2.5-1.122 2.5-2.5v-19.5c0-0.448-0.137-1.23-1.319-2.841zM24.543 5.457c0.959 0.959 1.712 1.825 2.268 2.543h-4.811v-4.811c0.718 0.556 1.584 1.309 2.543 2.268zM28 29.5c0 0.271-0.229 0.5-0.5 0.5h-23c-0.271 0-0.5-0.229-0.5-0.5v-27c0-0.271 0.229-0.5 0.5-0.5 0 0 15.499-0 15.5 0v7c0 0.552 0.448 1 1 1h7v19.5z\"></path>\n",
              "<path d=\"M23 26h-14c-0.552 0-1-0.448-1-1s0.448-1 1-1h14c0.552 0 1 0.448 1 1s-0.448 1-1 1z\"></path>\n",
              "<path d=\"M23 22h-14c-0.552 0-1-0.448-1-1s0.448-1 1-1h14c0.552 0 1 0.448 1 1s-0.448 1-1 1z\"></path>\n",
              "<path d=\"M23 18h-14c-0.552 0-1-0.448-1-1s0.448-1 1-1h14c0.552 0 1 0.448 1 1s-0.448 1-1 1z\"></path>\n",
              "</symbol>\n",
              "</defs>\n",
              "</svg>\n",
              "<style>/* CSS stylesheet for displaying xarray objects in jupyterlab.\n",
              " *\n",
              " */\n",
              "\n",
              ":root {\n",
              "  --xr-font-color0: var(--jp-content-font-color0, rgba(0, 0, 0, 1));\n",
              "  --xr-font-color2: var(--jp-content-font-color2, rgba(0, 0, 0, 0.54));\n",
              "  --xr-font-color3: var(--jp-content-font-color3, rgba(0, 0, 0, 0.38));\n",
              "  --xr-border-color: var(--jp-border-color2, #e0e0e0);\n",
              "  --xr-disabled-color: var(--jp-layout-color3, #bdbdbd);\n",
              "  --xr-background-color: var(--jp-layout-color0, white);\n",
              "  --xr-background-color-row-even: var(--jp-layout-color1, white);\n",
              "  --xr-background-color-row-odd: var(--jp-layout-color2, #eeeeee);\n",
              "}\n",
              "\n",
              "html[theme=\"dark\"],\n",
              "html[data-theme=\"dark\"],\n",
              "body[data-theme=\"dark\"],\n",
              "body.vscode-dark {\n",
              "  --xr-font-color0: rgba(255, 255, 255, 1);\n",
              "  --xr-font-color2: rgba(255, 255, 255, 0.54);\n",
              "  --xr-font-color3: rgba(255, 255, 255, 0.38);\n",
              "  --xr-border-color: #1f1f1f;\n",
              "  --xr-disabled-color: #515151;\n",
              "  --xr-background-color: #111111;\n",
              "  --xr-background-color-row-even: #111111;\n",
              "  --xr-background-color-row-odd: #313131;\n",
              "}\n",
              "\n",
              ".xr-wrap {\n",
              "  display: block !important;\n",
              "  min-width: 300px;\n",
              "  max-width: 700px;\n",
              "}\n",
              "\n",
              ".xr-text-repr-fallback {\n",
              "  /* fallback to plain text repr when CSS is not injected (untrusted notebook) */\n",
              "  display: none;\n",
              "}\n",
              "\n",
              ".xr-header {\n",
              "  padding-top: 6px;\n",
              "  padding-bottom: 6px;\n",
              "  margin-bottom: 4px;\n",
              "  border-bottom: solid 1px var(--xr-border-color);\n",
              "}\n",
              "\n",
              ".xr-header > div,\n",
              ".xr-header > ul {\n",
              "  display: inline;\n",
              "  margin-top: 0;\n",
              "  margin-bottom: 0;\n",
              "}\n",
              "\n",
              ".xr-obj-type,\n",
              ".xr-array-name {\n",
              "  margin-left: 2px;\n",
              "  margin-right: 10px;\n",
              "}\n",
              "\n",
              ".xr-obj-type {\n",
              "  color: var(--xr-font-color2);\n",
              "}\n",
              "\n",
              ".xr-sections {\n",
              "  padding-left: 0 !important;\n",
              "  display: grid;\n",
              "  grid-template-columns: 150px auto auto 1fr 0 20px 0 20px;\n",
              "}\n",
              "\n",
              ".xr-section-item {\n",
              "  display: contents;\n",
              "}\n",
              "\n",
              ".xr-section-item input {\n",
              "  display: inline-block;\n",
              "  opacity: 0;\n",
              "  height: 0;\n",
              "}\n",
              "\n",
              ".xr-section-item input + label {\n",
              "  color: var(--xr-disabled-color);\n",
              "}\n",
              "\n",
              ".xr-section-item input:enabled + label {\n",
              "  cursor: pointer;\n",
              "  color: var(--xr-font-color2);\n",
              "}\n",
              "\n",
              ".xr-section-item input:focus + label {\n",
              "  border: 2px solid var(--xr-font-color0);\n",
              "}\n",
              "\n",
              ".xr-section-item input:enabled + label:hover {\n",
              "  color: var(--xr-font-color0);\n",
              "}\n",
              "\n",
              ".xr-section-summary {\n",
              "  grid-column: 1;\n",
              "  color: var(--xr-font-color2);\n",
              "  font-weight: 500;\n",
              "}\n",
              "\n",
              ".xr-section-summary > span {\n",
              "  display: inline-block;\n",
              "  padding-left: 0.5em;\n",
              "}\n",
              "\n",
              ".xr-section-summary-in:disabled + label {\n",
              "  color: var(--xr-font-color2);\n",
              "}\n",
              "\n",
              ".xr-section-summary-in + label:before {\n",
              "  display: inline-block;\n",
              "  content: \"►\";\n",
              "  font-size: 11px;\n",
              "  width: 15px;\n",
              "  text-align: center;\n",
              "}\n",
              "\n",
              ".xr-section-summary-in:disabled + label:before {\n",
              "  color: var(--xr-disabled-color);\n",
              "}\n",
              "\n",
              ".xr-section-summary-in:checked + label:before {\n",
              "  content: \"▼\";\n",
              "}\n",
              "\n",
              ".xr-section-summary-in:checked + label > span {\n",
              "  display: none;\n",
              "}\n",
              "\n",
              ".xr-section-summary,\n",
              ".xr-section-inline-details {\n",
              "  padding-top: 4px;\n",
              "  padding-bottom: 4px;\n",
              "}\n",
              "\n",
              ".xr-section-inline-details {\n",
              "  grid-column: 2 / -1;\n",
              "}\n",
              "\n",
              ".xr-section-details {\n",
              "  display: none;\n",
              "  grid-column: 1 / -1;\n",
              "  margin-bottom: 5px;\n",
              "}\n",
              "\n",
              ".xr-section-summary-in:checked ~ .xr-section-details {\n",
              "  display: contents;\n",
              "}\n",
              "\n",
              ".xr-array-wrap {\n",
              "  grid-column: 1 / -1;\n",
              "  display: grid;\n",
              "  grid-template-columns: 20px auto;\n",
              "}\n",
              "\n",
              ".xr-array-wrap > label {\n",
              "  grid-column: 1;\n",
              "  vertical-align: top;\n",
              "}\n",
              "\n",
              ".xr-preview {\n",
              "  color: var(--xr-font-color3);\n",
              "}\n",
              "\n",
              ".xr-array-preview,\n",
              ".xr-array-data {\n",
              "  padding: 0 5px !important;\n",
              "  grid-column: 2;\n",
              "}\n",
              "\n",
              ".xr-array-data,\n",
              ".xr-array-in:checked ~ .xr-array-preview {\n",
              "  display: none;\n",
              "}\n",
              "\n",
              ".xr-array-in:checked ~ .xr-array-data,\n",
              ".xr-array-preview {\n",
              "  display: inline-block;\n",
              "}\n",
              "\n",
              ".xr-dim-list {\n",
              "  display: inline-block !important;\n",
              "  list-style: none;\n",
              "  padding: 0 !important;\n",
              "  margin: 0;\n",
              "}\n",
              "\n",
              ".xr-dim-list li {\n",
              "  display: inline-block;\n",
              "  padding: 0;\n",
              "  margin: 0;\n",
              "}\n",
              "\n",
              ".xr-dim-list:before {\n",
              "  content: \"(\";\n",
              "}\n",
              "\n",
              ".xr-dim-list:after {\n",
              "  content: \")\";\n",
              "}\n",
              "\n",
              ".xr-dim-list li:not(:last-child):after {\n",
              "  content: \",\";\n",
              "  padding-right: 5px;\n",
              "}\n",
              "\n",
              ".xr-has-index {\n",
              "  font-weight: bold;\n",
              "}\n",
              "\n",
              ".xr-var-list,\n",
              ".xr-var-item {\n",
              "  display: contents;\n",
              "}\n",
              "\n",
              ".xr-var-item > div,\n",
              ".xr-var-item label,\n",
              ".xr-var-item > .xr-var-name span {\n",
              "  background-color: var(--xr-background-color-row-even);\n",
              "  margin-bottom: 0;\n",
              "}\n",
              "\n",
              ".xr-var-item > .xr-var-name:hover span {\n",
              "  padding-right: 5px;\n",
              "}\n",
              "\n",
              ".xr-var-list > li:nth-child(odd) > div,\n",
              ".xr-var-list > li:nth-child(odd) > label,\n",
              ".xr-var-list > li:nth-child(odd) > .xr-var-name span {\n",
              "  background-color: var(--xr-background-color-row-odd);\n",
              "}\n",
              "\n",
              ".xr-var-name {\n",
              "  grid-column: 1;\n",
              "}\n",
              "\n",
              ".xr-var-dims {\n",
              "  grid-column: 2;\n",
              "}\n",
              "\n",
              ".xr-var-dtype {\n",
              "  grid-column: 3;\n",
              "  text-align: right;\n",
              "  color: var(--xr-font-color2);\n",
              "}\n",
              "\n",
              ".xr-var-preview {\n",
              "  grid-column: 4;\n",
              "}\n",
              "\n",
              ".xr-index-preview {\n",
              "  grid-column: 2 / 5;\n",
              "  color: var(--xr-font-color2);\n",
              "}\n",
              "\n",
              ".xr-var-name,\n",
              ".xr-var-dims,\n",
              ".xr-var-dtype,\n",
              ".xr-preview,\n",
              ".xr-attrs dt {\n",
              "  white-space: nowrap;\n",
              "  overflow: hidden;\n",
              "  text-overflow: ellipsis;\n",
              "  padding-right: 10px;\n",
              "}\n",
              "\n",
              ".xr-var-name:hover,\n",
              ".xr-var-dims:hover,\n",
              ".xr-var-dtype:hover,\n",
              ".xr-attrs dt:hover {\n",
              "  overflow: visible;\n",
              "  width: auto;\n",
              "  z-index: 1;\n",
              "}\n",
              "\n",
              ".xr-var-attrs,\n",
              ".xr-var-data,\n",
              ".xr-index-data {\n",
              "  display: none;\n",
              "  background-color: var(--xr-background-color) !important;\n",
              "  padding-bottom: 5px !important;\n",
              "}\n",
              "\n",
              ".xr-var-attrs-in:checked ~ .xr-var-attrs,\n",
              ".xr-var-data-in:checked ~ .xr-var-data,\n",
              ".xr-index-data-in:checked ~ .xr-index-data {\n",
              "  display: block;\n",
              "}\n",
              "\n",
              ".xr-var-data > table {\n",
              "  float: right;\n",
              "}\n",
              "\n",
              ".xr-var-name span,\n",
              ".xr-var-data,\n",
              ".xr-index-name div,\n",
              ".xr-index-data,\n",
              ".xr-attrs {\n",
              "  padding-left: 25px !important;\n",
              "}\n",
              "\n",
              ".xr-attrs,\n",
              ".xr-var-attrs,\n",
              ".xr-var-data,\n",
              ".xr-index-data {\n",
              "  grid-column: 1 / -1;\n",
              "}\n",
              "\n",
              "dl.xr-attrs {\n",
              "  padding: 0;\n",
              "  margin: 0;\n",
              "  display: grid;\n",
              "  grid-template-columns: 125px auto;\n",
              "}\n",
              "\n",
              ".xr-attrs dt,\n",
              ".xr-attrs dd {\n",
              "  padding: 0;\n",
              "  margin: 0;\n",
              "  float: left;\n",
              "  padding-right: 10px;\n",
              "  width: auto;\n",
              "}\n",
              "\n",
              ".xr-attrs dt {\n",
              "  font-weight: normal;\n",
              "  grid-column: 1;\n",
              "}\n",
              "\n",
              ".xr-attrs dt:hover span {\n",
              "  display: inline-block;\n",
              "  background: var(--xr-background-color);\n",
              "  padding-right: 10px;\n",
              "}\n",
              "\n",
              ".xr-attrs dd {\n",
              "  grid-column: 2;\n",
              "  white-space: pre-wrap;\n",
              "  word-break: break-all;\n",
              "}\n",
              "\n",
              ".xr-icon-database,\n",
              ".xr-icon-file-text2,\n",
              ".xr-no-icon {\n",
              "  display: inline-block;\n",
              "  vertical-align: middle;\n",
              "  width: 1em;\n",
              "  height: 1.5em !important;\n",
              "  stroke-width: 0;\n",
              "  stroke: currentColor;\n",
              "  fill: currentColor;\n",
              "}\n",
              "</style><pre class='xr-text-repr-fallback'>&lt;xarray.Dataset&gt; Size: 289MB\n",
              "Dimensions:    (time: 1254, latitude: 120, longitude: 240)\n",
              "Coordinates:\n",
              "  * latitude   (latitude) float32 480B 0.125 0.375 0.625 ... 29.38 29.62 29.88\n",
              "  * longitude  (longitude) float32 960B 40.12 40.38 40.62 ... 99.38 99.62 99.88\n",
              "  * time       (time) datetime64[ns] 10kB 2020-01-01 2020-01-02 ... 2023-06-07\n",
              "Data variables:\n",
              "    adt        (time, latitude, longitude) float64 289MB ...\n",
              "Attributes: (12/45)\n",
              "    Conventions:                     CF-1.6\n",
              "    Metadata_Conventions:            Unidata Dataset Discovery v1.0\n",
              "    cdm_data_type:                   Grid\n",
              "    comment:                         Sea Surface Height measured by Altimetry...\n",
              "    contact:                         http://climate.copernicus.eu/c3s-user-se...\n",
              "    creator_email:                   http://climate.copernicus.eu/c3s-user-se...\n",
              "    ...                              ...\n",
              "    time_coverage_duration:          P1D\n",
              "    time_coverage_end:               1993-01-01T12:00:00Z\n",
              "    time_coverage_resolution:        P1D\n",
              "    time_coverage_start:             1992-12-31T12:00:00Z\n",
              "    title:                           DT merged two satellites Global Ocean Gr...\n",
              "    copernicusmarine_version:        1.3.3</pre><div class='xr-wrap' style='display:none'><div class='xr-header'><div class='xr-obj-type'>xarray.Dataset</div></div><ul class='xr-sections'><li class='xr-section-item'><input id='section-5b20c454-16ca-469c-84ad-e5a518a3dba6' class='xr-section-summary-in' type='checkbox' disabled ><label for='section-5b20c454-16ca-469c-84ad-e5a518a3dba6' class='xr-section-summary'  title='Expand/collapse section'>Dimensions:</label><div class='xr-section-inline-details'><ul class='xr-dim-list'><li><span class='xr-has-index'>time</span>: 1254</li><li><span class='xr-has-index'>latitude</span>: 120</li><li><span class='xr-has-index'>longitude</span>: 240</li></ul></div><div class='xr-section-details'></div></li><li class='xr-section-item'><input id='section-ac74f283-c016-4221-9bf9-72afb8b653ca' class='xr-section-summary-in' type='checkbox'  checked><label for='section-ac74f283-c016-4221-9bf9-72afb8b653ca' class='xr-section-summary' >Coordinates: <span>(3)</span></label><div class='xr-section-inline-details'></div><div class='xr-section-details'><ul class='xr-var-list'><li class='xr-var-item'><div class='xr-var-name'><span class='xr-has-index'>latitude</span></div><div class='xr-var-dims'>(latitude)</div><div class='xr-var-dtype'>float32</div><div class='xr-var-preview xr-preview'>0.125 0.375 0.625 ... 29.62 29.88</div><input id='attrs-eb867f06-8fd5-4bb5-aa4e-d3aab6707051' class='xr-var-attrs-in' type='checkbox' ><label for='attrs-eb867f06-8fd5-4bb5-aa4e-d3aab6707051' title='Show/Hide attributes'><svg class='icon xr-icon-file-text2'><use xlink:href='#icon-file-text2'></use></svg></label><input id='data-05ba6217-b1fc-476b-bdf0-6c4c0d77c1ad' class='xr-var-data-in' type='checkbox'><label for='data-05ba6217-b1fc-476b-bdf0-6c4c0d77c1ad' title='Show/Hide data repr'><svg class='icon xr-icon-database'><use xlink:href='#icon-database'></use></svg></label><div class='xr-var-attrs'><dl class='xr-attrs'><dt><span>axis :</span></dt><dd>Y</dd><dt><span>bounds :</span></dt><dd>lat_bnds</dd><dt><span>long_name :</span></dt><dd>Latitude</dd><dt><span>standard_name :</span></dt><dd>latitude</dd><dt><span>units :</span></dt><dd>degrees_north</dd><dt><span>valid_max :</span></dt><dd>29.875</dd><dt><span>valid_min :</span></dt><dd>0.125</dd></dl></div><div class='xr-var-data'><pre>array([ 0.125,  0.375,  0.625,  0.875,  1.125,  1.375,  1.625,  1.875,  2.125,\n",
              "        2.375,  2.625,  2.875,  3.125,  3.375,  3.625,  3.875,  4.125,  4.375,\n",
              "        4.625,  4.875,  5.125,  5.375,  5.625,  5.875,  6.125,  6.375,  6.625,\n",
              "        6.875,  7.125,  7.375,  7.625,  7.875,  8.125,  8.375,  8.625,  8.875,\n",
              "        9.125,  9.375,  9.625,  9.875, 10.125, 10.375, 10.625, 10.875, 11.125,\n",
              "       11.375, 11.625, 11.875, 12.125, 12.375, 12.625, 12.875, 13.125, 13.375,\n",
              "       13.625, 13.875, 14.125, 14.375, 14.625, 14.875, 15.125, 15.375, 15.625,\n",
              "       15.875, 16.125, 16.375, 16.625, 16.875, 17.125, 17.375, 17.625, 17.875,\n",
              "       18.125, 18.375, 18.625, 18.875, 19.125, 19.375, 19.625, 19.875, 20.125,\n",
              "       20.375, 20.625, 20.875, 21.125, 21.375, 21.625, 21.875, 22.125, 22.375,\n",
              "       22.625, 22.875, 23.125, 23.375, 23.625, 23.875, 24.125, 24.375, 24.625,\n",
              "       24.875, 25.125, 25.375, 25.625, 25.875, 26.125, 26.375, 26.625, 26.875,\n",
              "       27.125, 27.375, 27.625, 27.875, 28.125, 28.375, 28.625, 28.875, 29.125,\n",
              "       29.375, 29.625, 29.875], dtype=float32)</pre></div></li><li class='xr-var-item'><div class='xr-var-name'><span class='xr-has-index'>longitude</span></div><div class='xr-var-dims'>(longitude)</div><div class='xr-var-dtype'>float32</div><div class='xr-var-preview xr-preview'>40.12 40.38 40.62 ... 99.62 99.88</div><input id='attrs-79d99dac-e309-423f-a53a-13bcd8ae61aa' class='xr-var-attrs-in' type='checkbox' ><label for='attrs-79d99dac-e309-423f-a53a-13bcd8ae61aa' title='Show/Hide attributes'><svg class='icon xr-icon-file-text2'><use xlink:href='#icon-file-text2'></use></svg></label><input id='data-ded5030a-8560-4a2a-8bb9-36a6616604b0' class='xr-var-data-in' type='checkbox'><label for='data-ded5030a-8560-4a2a-8bb9-36a6616604b0' title='Show/Hide data repr'><svg class='icon xr-icon-database'><use xlink:href='#icon-database'></use></svg></label><div class='xr-var-attrs'><dl class='xr-attrs'><dt><span>axis :</span></dt><dd>X</dd><dt><span>bounds :</span></dt><dd>lon_bnds</dd><dt><span>long_name :</span></dt><dd>Longitude</dd><dt><span>standard_name :</span></dt><dd>longitude</dd><dt><span>units :</span></dt><dd>degrees_east</dd><dt><span>valid_max :</span></dt><dd>99.875</dd><dt><span>valid_min :</span></dt><dd>40.125</dd></dl></div><div class='xr-var-data'><pre>array([40.125, 40.375, 40.625, ..., 99.375, 99.625, 99.875], dtype=float32)</pre></div></li><li class='xr-var-item'><div class='xr-var-name'><span class='xr-has-index'>time</span></div><div class='xr-var-dims'>(time)</div><div class='xr-var-dtype'>datetime64[ns]</div><div class='xr-var-preview xr-preview'>2020-01-01 ... 2023-06-07</div><input id='attrs-bd361ca8-71bc-4c9d-8c8e-e15be2d41227' class='xr-var-attrs-in' type='checkbox' ><label for='attrs-bd361ca8-71bc-4c9d-8c8e-e15be2d41227' title='Show/Hide attributes'><svg class='icon xr-icon-file-text2'><use xlink:href='#icon-file-text2'></use></svg></label><input id='data-24bf7eb9-3cf5-4ded-b96c-6a1afe433a83' class='xr-var-data-in' type='checkbox'><label for='data-24bf7eb9-3cf5-4ded-b96c-6a1afe433a83' title='Show/Hide data repr'><svg class='icon xr-icon-database'><use xlink:href='#icon-database'></use></svg></label><div class='xr-var-attrs'><dl class='xr-attrs'><dt><span>valid_min :</span></dt><dd>25567</dd><dt><span>valid_max :</span></dt><dd>26820</dd></dl></div><div class='xr-var-data'><pre>array([&#x27;2020-01-01T00:00:00.000000000&#x27;, &#x27;2020-01-02T00:00:00.000000000&#x27;,\n",
              "       &#x27;2020-01-03T00:00:00.000000000&#x27;, ..., &#x27;2023-06-05T00:00:00.000000000&#x27;,\n",
              "       &#x27;2023-06-06T00:00:00.000000000&#x27;, &#x27;2023-06-07T00:00:00.000000000&#x27;],\n",
              "      dtype=&#x27;datetime64[ns]&#x27;)</pre></div></li></ul></div></li><li class='xr-section-item'><input id='section-437af4ad-1484-4a22-ac0d-44078cae5b13' class='xr-section-summary-in' type='checkbox'  checked><label for='section-437af4ad-1484-4a22-ac0d-44078cae5b13' class='xr-section-summary' >Data variables: <span>(1)</span></label><div class='xr-section-inline-details'></div><div class='xr-section-details'><ul class='xr-var-list'><li class='xr-var-item'><div class='xr-var-name'><span>adt</span></div><div class='xr-var-dims'>(time, latitude, longitude)</div><div class='xr-var-dtype'>float64</div><div class='xr-var-preview xr-preview'>...</div><input id='attrs-78da1617-04a4-4e06-8cec-14596ffbdb23' class='xr-var-attrs-in' type='checkbox' ><label for='attrs-78da1617-04a4-4e06-8cec-14596ffbdb23' title='Show/Hide attributes'><svg class='icon xr-icon-file-text2'><use xlink:href='#icon-file-text2'></use></svg></label><input id='data-d537a419-1819-42f8-9e62-cc14029e1c8d' class='xr-var-data-in' type='checkbox'><label for='data-d537a419-1819-42f8-9e62-cc14029e1c8d' title='Show/Hide data repr'><svg class='icon xr-icon-database'><use xlink:href='#icon-database'></use></svg></label><div class='xr-var-attrs'><dl class='xr-attrs'><dt><span>comment :</span></dt><dd>The absolute dynamic topography is the sea surface height above geoid; the adt is obtained as follows: adt=sla+mdt where mdt is the mean dynamic topography; see the product user manual for details</dd><dt><span>grid_mapping :</span></dt><dd>crs</dd><dt><span>long_name :</span></dt><dd>Absolute dynamic topography</dd><dt><span>standard_name :</span></dt><dd>sea_surface_height_above_geoid</dd><dt><span>units :</span></dt><dd>m</dd></dl></div><div class='xr-var-data'><pre>[36115200 values with dtype=float64]</pre></div></li></ul></div></li><li class='xr-section-item'><input id='section-5ab3d1a2-50e9-48e1-9ed2-1574cebd6ecb' class='xr-section-summary-in' type='checkbox'  ><label for='section-5ab3d1a2-50e9-48e1-9ed2-1574cebd6ecb' class='xr-section-summary' >Indexes: <span>(3)</span></label><div class='xr-section-inline-details'></div><div class='xr-section-details'><ul class='xr-var-list'><li class='xr-var-item'><div class='xr-index-name'><div>latitude</div></div><div class='xr-index-preview'>PandasIndex</div><input type='checkbox' disabled/><label></label><input id='index-11d41b92-8bf1-48cf-9373-edcb486ebb49' class='xr-index-data-in' type='checkbox'/><label for='index-11d41b92-8bf1-48cf-9373-edcb486ebb49' title='Show/Hide index repr'><svg class='icon xr-icon-database'><use xlink:href='#icon-database'></use></svg></label><div class='xr-index-data'><pre>PandasIndex(Index([ 0.125,  0.375,  0.625,  0.875,  1.125,  1.375,  1.625,  1.875,  2.125,\n",
              "        2.375,\n",
              "       ...\n",
              "       27.625, 27.875, 28.125, 28.375, 28.625, 28.875, 29.125, 29.375, 29.625,\n",
              "       29.875],\n",
              "      dtype=&#x27;float32&#x27;, name=&#x27;latitude&#x27;, length=120))</pre></div></li><li class='xr-var-item'><div class='xr-index-name'><div>longitude</div></div><div class='xr-index-preview'>PandasIndex</div><input type='checkbox' disabled/><label></label><input id='index-8a86c158-fd78-4229-8188-f6e872f8ab93' class='xr-index-data-in' type='checkbox'/><label for='index-8a86c158-fd78-4229-8188-f6e872f8ab93' title='Show/Hide index repr'><svg class='icon xr-icon-database'><use xlink:href='#icon-database'></use></svg></label><div class='xr-index-data'><pre>PandasIndex(Index([40.125, 40.375, 40.625, 40.875, 41.125, 41.375, 41.625, 41.875, 42.125,\n",
              "       42.375,\n",
              "       ...\n",
              "       97.625, 97.875, 98.125, 98.375, 98.625, 98.875, 99.125, 99.375, 99.625,\n",
              "       99.875],\n",
              "      dtype=&#x27;float32&#x27;, name=&#x27;longitude&#x27;, length=240))</pre></div></li><li class='xr-var-item'><div class='xr-index-name'><div>time</div></div><div class='xr-index-preview'>PandasIndex</div><input type='checkbox' disabled/><label></label><input id='index-ce509fc7-a6f2-44bb-b7a9-c246043ed958' class='xr-index-data-in' type='checkbox'/><label for='index-ce509fc7-a6f2-44bb-b7a9-c246043ed958' title='Show/Hide index repr'><svg class='icon xr-icon-database'><use xlink:href='#icon-database'></use></svg></label><div class='xr-index-data'><pre>PandasIndex(DatetimeIndex([&#x27;2020-01-01&#x27;, &#x27;2020-01-02&#x27;, &#x27;2020-01-03&#x27;, &#x27;2020-01-04&#x27;,\n",
              "               &#x27;2020-01-05&#x27;, &#x27;2020-01-06&#x27;, &#x27;2020-01-07&#x27;, &#x27;2020-01-08&#x27;,\n",
              "               &#x27;2020-01-09&#x27;, &#x27;2020-01-10&#x27;,\n",
              "               ...\n",
              "               &#x27;2023-05-29&#x27;, &#x27;2023-05-30&#x27;, &#x27;2023-05-31&#x27;, &#x27;2023-06-01&#x27;,\n",
              "               &#x27;2023-06-02&#x27;, &#x27;2023-06-03&#x27;, &#x27;2023-06-04&#x27;, &#x27;2023-06-05&#x27;,\n",
              "               &#x27;2023-06-06&#x27;, &#x27;2023-06-07&#x27;],\n",
              "              dtype=&#x27;datetime64[ns]&#x27;, name=&#x27;time&#x27;, length=1254, freq=None))</pre></div></li></ul></div></li><li class='xr-section-item'><input id='section-90120332-e4b7-463e-b53b-cc21ec7d4eea' class='xr-section-summary-in' type='checkbox'  ><label for='section-90120332-e4b7-463e-b53b-cc21ec7d4eea' class='xr-section-summary' >Attributes: <span>(45)</span></label><div class='xr-section-inline-details'></div><div class='xr-section-details'><dl class='xr-attrs'><dt><span>Conventions :</span></dt><dd>CF-1.6</dd><dt><span>Metadata_Conventions :</span></dt><dd>Unidata Dataset Discovery v1.0</dd><dt><span>cdm_data_type :</span></dt><dd>Grid</dd><dt><span>comment :</span></dt><dd>Sea Surface Height measured by Altimetry and derived variables</dd><dt><span>contact :</span></dt><dd>http://climate.copernicus.eu/c3s-user-service-desk</dd><dt><span>creator_email :</span></dt><dd>http://climate.copernicus.eu/c3s-user-service-desk</dd><dt><span>creator_name :</span></dt><dd>Copernicus Climate Change Service (C3S)</dd><dt><span>creator_url :</span></dt><dd>http://climate.copernicus.eu</dd><dt><span>date_created :</span></dt><dd>2021-07-09T08:53:57Z</dd><dt><span>date_issued :</span></dt><dd>2021-07-09T08:53:57Z</dd><dt><span>date_modified :</span></dt><dd>2021-07-09T08:53:57Z</dd><dt><span>geospatial_lat_max :</span></dt><dd>89.875</dd><dt><span>geospatial_lat_min :</span></dt><dd>-89.875</dd><dt><span>geospatial_lat_resolution :</span></dt><dd>0.25</dd><dt><span>geospatial_lat_units :</span></dt><dd>degrees_north</dd><dt><span>geospatial_lon_max :</span></dt><dd>179.875</dd><dt><span>geospatial_lon_min :</span></dt><dd>-179.875</dd><dt><span>geospatial_lon_resolution :</span></dt><dd>0.25</dd><dt><span>geospatial_lon_units :</span></dt><dd>degrees_east</dd><dt><span>geospatial_vertical_max :</span></dt><dd>0.0</dd><dt><span>geospatial_vertical_min :</span></dt><dd>0.0</dd><dt><span>geospatial_vertical_positive :</span></dt><dd>down</dd><dt><span>geospatial_vertical_resolution :</span></dt><dd>point</dd><dt><span>geospatial_vertical_units :</span></dt><dd>m</dd><dt><span>history :</span></dt><dd>2021-07-09 08:53:58Z: Creation</dd><dt><span>institution :</span></dt><dd>CLS, CNES</dd><dt><span>keywords :</span></dt><dd>Oceans &gt; Ocean Topography &gt; Sea Surface Height</dd><dt><span>keywords_vocabulary :</span></dt><dd>NetCDF COARDS Climate and Forecast Standard Names</dd><dt><span>license :</span></dt><dd>http://climate.copernicus.eu/c3s-user-service-desk</dd><dt><span>platform :</span></dt><dd>ERS-1, Topex/Poseidon,</dd><dt><span>processing_level :</span></dt><dd>L4</dd><dt><span>product_version :</span></dt><dd>vDec2021</dd><dt><span>project :</span></dt><dd>Copernicus Climate Change Service (C3S)</dd><dt><span>references :</span></dt><dd>http://climate.copernicus.eu</dd><dt><span>software_version :</span></dt><dd>7.0_DUACS_DT2021_baseline</dd><dt><span>source :</span></dt><dd>Altimetry measurements</dd><dt><span>ssalto_duacs_comment :</span></dt><dd>The reference mission used for the altimeter inter-calibration processing is Topex/Poseidon between 1993-01-01 and 2002-04-23, Jason-1 between 2002-04-24 and 2008-10-18, OSTM/Jason-2 between 2008-10-19 and 2016-06-25, Jason-3 since 2016-06-25.</dd><dt><span>standard_name_vocabulary :</span></dt><dd>NetCDF Climate and Forecast (CF) Metadata Convention Standard Name Table v37</dd><dt><span>summary :</span></dt><dd>SSALTO/DUACS Delayed-Time Level-4 sea surface height and derived variables measured by multi-satellite altimetry observations over Global Ocean.</dd><dt><span>time_coverage_duration :</span></dt><dd>P1D</dd><dt><span>time_coverage_end :</span></dt><dd>1993-01-01T12:00:00Z</dd><dt><span>time_coverage_resolution :</span></dt><dd>P1D</dd><dt><span>time_coverage_start :</span></dt><dd>1992-12-31T12:00:00Z</dd><dt><span>title :</span></dt><dd>DT merged two satellites Global Ocean Gridded SSALTO/DUACS Sea Surface Height L4 product and derived variables</dd><dt><span>copernicusmarine_version :</span></dt><dd>1.3.3</dd></dl></div></li></ul></div></div>"
            ]
          },
          "metadata": {},
          "execution_count": 4
        }
      ],
      "source": [
        "# Load the NetCDF file\n",
        "file_path = 'adt.nc'\n",
        "data = xr.open_dataset(file_path)\n",
        "\n",
        "# Inspect the contents\n",
        "data"
      ]
    },
    {
      "cell_type": "code",
      "execution_count": 5,
      "id": "ca9ee1a4-b50a-4e3b-95a7-26cf16055f4a",
      "metadata": {
        "id": "ca9ee1a4-b50a-4e3b-95a7-26cf16055f4a"
      },
      "outputs": [],
      "source": [
        "adt_data = data.adt.values"
      ]
    },
    {
      "cell_type": "code",
      "execution_count": 6,
      "id": "8f785811-6001-4bdc-bfee-56224883b9c1",
      "metadata": {
        "colab": {
          "base_uri": "https://localhost:8080/"
        },
        "id": "8f785811-6001-4bdc-bfee-56224883b9c1",
        "outputId": "1189d826-16a8-4da3-9a18-e980e7b41f6e"
      },
      "outputs": [
        {
          "output_type": "execute_result",
          "data": {
            "text/plain": [
              "(1254, 120, 240)"
            ]
          },
          "metadata": {},
          "execution_count": 6
        }
      ],
      "source": [
        "adt_data.shape"
      ]
    },
    {
      "cell_type": "code",
      "execution_count": 7,
      "id": "e23ef89a-d1a3-4375-9a83-21767b9acdfa",
      "metadata": {
        "id": "e23ef89a-d1a3-4375-9a83-21767b9acdfa"
      },
      "outputs": [],
      "source": [
        "adt_tensor = torch.from_numpy(adt_data)"
      ]
    },
    {
      "cell_type": "code",
      "execution_count": 8,
      "id": "0ba3b7e9-cb50-41ca-b73a-403fbf98378b",
      "metadata": {
        "colab": {
          "base_uri": "https://localhost:8080/"
        },
        "id": "0ba3b7e9-cb50-41ca-b73a-403fbf98378b",
        "outputId": "fbe84247-d4b2-4825-9159-56df07cba93f"
      },
      "outputs": [
        {
          "output_type": "execute_result",
          "data": {
            "text/plain": [
              "torch.Size([1254, 28800])"
            ]
          },
          "metadata": {},
          "execution_count": 8
        }
      ],
      "source": [
        "adt_tensor = adt_tensor.reshape((1254,28800))\n",
        "adt_tensor.shape"
      ]
    },
    {
      "cell_type": "code",
      "execution_count": 9,
      "id": "a6e53ee7-cb59-480b-9fb7-b9592ffff49f",
      "metadata": {
        "colab": {
          "base_uri": "https://localhost:8080/"
        },
        "id": "a6e53ee7-cb59-480b-9fb7-b9592ffff49f",
        "outputId": "906a80bc-b5c7-45b1-cc70-da085d8f85fa"
      },
      "outputs": [
        {
          "output_type": "execute_result",
          "data": {
            "text/plain": [
              "torch.Size([28800, 1254])"
            ]
          },
          "metadata": {},
          "execution_count": 9
        }
      ],
      "source": [
        "adt_tensor = torch.transpose(adt_tensor, 1,0)\n",
        "adt_tensor.shape"
      ]
    },
    {
      "cell_type": "code",
      "execution_count": 10,
      "id": "d3938d17-026f-4f0e-90b6-9ca6b115d820",
      "metadata": {
        "colab": {
          "base_uri": "https://localhost:8080/"
        },
        "id": "d3938d17-026f-4f0e-90b6-9ca6b115d820",
        "outputId": "c5c11096-7030-47ab-8f25-2254573bf9e7"
      },
      "outputs": [
        {
          "output_type": "execute_result",
          "data": {
            "text/plain": [
              "tensor([[0.8774, 0.8774, 0.8774,  ..., 0.8774, 0.8774, 0.8774],\n",
              "        [0.8774, 0.8774, 0.8774,  ..., 0.8774, 0.8774, 0.8774],\n",
              "        [0.8774, 0.8774, 0.8774,  ..., 0.8774, 0.8774, 0.8774],\n",
              "        ...,\n",
              "        [0.8774, 0.8774, 0.8774,  ..., 0.8774, 0.8774, 0.8774],\n",
              "        [0.8774, 0.8774, 0.8774,  ..., 0.8774, 0.8774, 0.8774],\n",
              "        [0.8774, 0.8774, 0.8774,  ..., 0.8774, 0.8774, 0.8774]],\n",
              "       dtype=torch.float64)"
            ]
          },
          "metadata": {},
          "execution_count": 10
        }
      ],
      "source": [
        "adt_tensor.nan_to_num_(adt_tensor.nanmean())"
      ]
    },
    {
      "cell_type": "code",
      "execution_count": 11,
      "id": "94420c52-d27c-4231-9cf7-b096cc1f35a7",
      "metadata": {
        "colab": {
          "base_uri": "https://localhost:8080/"
        },
        "id": "94420c52-d27c-4231-9cf7-b096cc1f35a7",
        "outputId": "5475efba-7d27-4cbc-f066-681eb9ad2651"
      },
      "outputs": [
        {
          "output_type": "execute_result",
          "data": {
            "text/plain": [
              "tensor(0)"
            ]
          },
          "metadata": {},
          "execution_count": 11
        }
      ],
      "source": [
        "adt_tensor.isnan().sum()"
      ]
    },
    {
      "cell_type": "code",
      "execution_count": 12,
      "id": "9faefa91-dd28-46f3-9495-c34ff2d48f1a",
      "metadata": {
        "id": "9faefa91-dd28-46f3-9495-c34ff2d48f1a"
      },
      "outputs": [],
      "source": [
        "from sklearn.preprocessing import MinMaxScaler\n",
        "from sklearn.metrics import mean_squared_error\n",
        "from torch import nn\n",
        "from torch.utils.data import DataLoader, Dataset,TensorDataset"
      ]
    },
    {
      "cell_type": "code",
      "execution_count": 13,
      "id": "8e3849f1-e2bb-4069-b363-19534bd3619d",
      "metadata": {
        "id": "8e3849f1-e2bb-4069-b363-19534bd3619d"
      },
      "outputs": [],
      "source": [
        "scaler = MinMaxScaler(feature_range=(0,1))\n",
        "dataset = scaler.fit_transform(adt_tensor)"
      ]
    },
    {
      "cell_type": "code",
      "execution_count": 14,
      "id": "e4cb40d9-77b9-42ff-9bd1-adcf542494fc",
      "metadata": {
        "colab": {
          "base_uri": "https://localhost:8080/"
        },
        "id": "e4cb40d9-77b9-42ff-9bd1-adcf542494fc",
        "outputId": "91a6c6bf-21cf-4129-efb7-dd1a1f9d9739"
      },
      "outputs": [
        {
          "output_type": "execute_result",
          "data": {
            "text/plain": [
              "array([[0.44373553, 0.43918507, 0.43298304, ..., 0.41418864, 0.41333715,\n",
              "        0.41304395],\n",
              "       [0.44373553, 0.43918507, 0.43298304, ..., 0.41418864, 0.41333715,\n",
              "        0.41304395],\n",
              "       [0.44373553, 0.43918507, 0.43298304, ..., 0.41418864, 0.41333715,\n",
              "        0.41304395],\n",
              "       ...,\n",
              "       [0.44373553, 0.43918507, 0.43298304, ..., 0.41418864, 0.41333715,\n",
              "        0.41304395],\n",
              "       [0.44373553, 0.43918507, 0.43298304, ..., 0.41418864, 0.41333715,\n",
              "        0.41304395],\n",
              "       [0.44373553, 0.43918507, 0.43298304, ..., 0.41418864, 0.41333715,\n",
              "        0.41304395]])"
            ]
          },
          "metadata": {},
          "execution_count": 14
        }
      ],
      "source": [
        "dataset"
      ]
    },
    {
      "cell_type": "code",
      "source": [
        "train_size = int(dataset.shape[1]*0.7)\n",
        "test_size = int(dataset.shape[1]*0.2)\n",
        "evalute_size = dataset.shape[1]-train_size-test_size\n",
        "train_size,test_size,evalute_size"
      ],
      "metadata": {
        "colab": {
          "base_uri": "https://localhost:8080/"
        },
        "id": "I8TpXWUl_kEI",
        "outputId": "8915f3e7-00ef-4ba4-cbb0-9d1559a5ff7f"
      },
      "id": "I8TpXWUl_kEI",
      "execution_count": 15,
      "outputs": [
        {
          "output_type": "execute_result",
          "data": {
            "text/plain": [
              "(877, 250, 127)"
            ]
          },
          "metadata": {},
          "execution_count": 15
        }
      ]
    },
    {
      "cell_type": "code",
      "execution_count": 16,
      "id": "e098a5ca-d37d-4d36-90af-160e7915b5e1",
      "metadata": {
        "id": "e098a5ca-d37d-4d36-90af-160e7915b5e1"
      },
      "outputs": [],
      "source": [
        "train,test,evaluate = dataset[:,0:train_size], dataset[:,train_size:test_size+train_size], dataset[:,test_size+train_size:len(dataset)]"
      ]
    },
    {
      "cell_type": "code",
      "execution_count": 17,
      "id": "2eb76d21-71c3-4d5f-ae56-bcc832b79eca",
      "metadata": {
        "colab": {
          "base_uri": "https://localhost:8080/"
        },
        "id": "2eb76d21-71c3-4d5f-ae56-bcc832b79eca",
        "outputId": "9ce4c867-3c60-4dd9-8fc4-ffd156a67dfa"
      },
      "outputs": [
        {
          "output_type": "execute_result",
          "data": {
            "text/plain": [
              "((28800, 877), (28800, 250), (28800, 127))"
            ]
          },
          "metadata": {},
          "execution_count": 17
        }
      ],
      "source": [
        "train.shape,test.shape,evaluate.shape"
      ]
    },
    {
      "cell_type": "code",
      "execution_count": 18,
      "id": "15046bb4-0ae6-45b6-8e01-58f8700ecb07",
      "metadata": {
        "id": "15046bb4-0ae6-45b6-8e01-58f8700ecb07"
      },
      "outputs": [],
      "source": [
        "def to_sequences(dataset,seq_size=1):\n",
        "    x = []\n",
        "    y = []\n",
        "    for i in range(dataset.shape[1]-seq_size):\n",
        "        window = dataset[:,i:(i+seq_size)]\n",
        "        x.append(window)\n",
        "        y.append(dataset[:,i+seq_size])\n",
        "    x,y = np.array(x), np.array(y)\n",
        "    return torch.tensor(x,dtype=torch.float32), torch.tensor(y,dtype=torch.float32)"
      ]
    },
    {
      "cell_type": "code",
      "execution_count": 19,
      "id": "9873e1eb-388e-4325-aba9-c3d51e96ff48",
      "metadata": {
        "id": "9873e1eb-388e-4325-aba9-c3d51e96ff48"
      },
      "outputs": [],
      "source": [
        "seq_size = 10"
      ]
    },
    {
      "cell_type": "code",
      "execution_count": 20,
      "id": "ee4dd945-f989-4497-8946-cc932075927f",
      "metadata": {
        "id": "ee4dd945-f989-4497-8946-cc932075927f"
      },
      "outputs": [],
      "source": [
        "trainX, trainy = to_sequences(train,seq_size)\n",
        "testX, testy = to_sequences(test,seq_size)\n",
        "evaluateX, evaluatey = to_sequences(evaluate,seq_size)"
      ]
    },
    {
      "cell_type": "code",
      "execution_count": 21,
      "id": "16c2d705-8e01-44e1-83c4-07448ffcd89b",
      "metadata": {
        "id": "16c2d705-8e01-44e1-83c4-07448ffcd89b"
      },
      "outputs": [],
      "source": [
        "trainy = trainy.unsqueeze(-1)\n",
        "testy = testy.unsqueeze(-1)\n",
        "evaluatey = evaluatey.unsqueeze(-1)"
      ]
    },
    {
      "cell_type": "code",
      "execution_count": 22,
      "id": "46d18160-ae9e-4205-9e21-ba2001642028",
      "metadata": {
        "colab": {
          "base_uri": "https://localhost:8080/"
        },
        "id": "46d18160-ae9e-4205-9e21-ba2001642028",
        "outputId": "68d1f50d-5b8b-414d-92f2-3a06b5e98986"
      },
      "outputs": [
        {
          "output_type": "stream",
          "name": "stdout",
          "text": [
            "torch.Size([867, 28800, 10]) torch.Size([867, 28800, 1])\n",
            "torch.Size([240, 28800, 10]) torch.Size([240, 28800, 1])\n"
          ]
        }
      ],
      "source": [
        "print(trainX.shape, trainy.shape)\n",
        "print(testX.shape, testy.shape)"
      ]
    },
    {
      "cell_type": "code",
      "execution_count": 23,
      "id": "8724d23b-cc4a-46b1-8cc6-259b1edc572c",
      "metadata": {
        "id": "8724d23b-cc4a-46b1-8cc6-259b1edc572c"
      },
      "outputs": [],
      "source": [
        "class CustomDataset(Dataset):\n",
        "    def __init__(self,x_tensor,y_tensor):\n",
        "        self.xdomain = x_tensor\n",
        "        self.ydomain = y_tensor\n",
        "    def __len__(self):\n",
        "        return len(self.xdomain)\n",
        "    def __getitem__(self,index):\n",
        "        return (self.xdomain[index],self.ydomain[index])"
      ]
    },
    {
      "cell_type": "code",
      "execution_count": 25,
      "id": "223dff6b-345e-46bc-a5c0-278d88f97fa0",
      "metadata": {
        "id": "223dff6b-345e-46bc-a5c0-278d88f97fa0"
      },
      "outputs": [],
      "source": [
        "train_dataset = CustomDataset(trainX,trainy)\n",
        "test_dataset = CustomDataset(testX,testy)\n",
        "evaluate_dataset = CustomDataset(evaluateX,evaluatey)"
      ]
    },
    {
      "cell_type": "code",
      "execution_count": 26,
      "id": "12018981-b7b5-4ef4-8591-ea50461dbaad",
      "metadata": {
        "id": "12018981-b7b5-4ef4-8591-ea50461dbaad"
      },
      "outputs": [],
      "source": [
        "train_dataloader = DataLoader(train_dataset, batch_size=1, shuffle=False, pin_memory=True)\n",
        "test_dataloader = DataLoader(test_dataset, batch_size=1, shuffle=False)\n",
        "evaluate_dataloader = DataLoader(evaluate_dataset, batch_size=1, shuffle=False)"
      ]
    },
    {
      "cell_type": "code",
      "execution_count": 27,
      "id": "2bd7e0b4-b01a-47e5-85c8-0011475be697",
      "metadata": {
        "id": "2bd7e0b4-b01a-47e5-85c8-0011475be697"
      },
      "outputs": [],
      "source": [
        "class ADTForecaster(nn.Module):\n",
        "    def __init__(self, input_size=10, hidden_size=64, num_layers=1):\n",
        "        super().__init__()\n",
        "        self.lstm = nn.LSTM(\n",
        "            input_size=input_size,\n",
        "            hidden_size=hidden_size,\n",
        "            num_layers=num_layers,\n",
        "            batch_first=True,\n",
        "            dropout=0.2\n",
        "        )\n",
        "        self.fc = nn.Sequential(\n",
        "            nn.Linear(hidden_size, 256),\n",
        "            nn.ReLU(),\n",
        "            nn.Dropout(0.2),\n",
        "            nn.Linear(256, 28800)  # Directly output all locations\n",
        "        )\n",
        "\n",
        "    def forward(self, x):\n",
        "        out, _ = self.lstm(x)  # (batch, seq_len, hidden_size)\n",
        "        out = self.fc(out[:, -1, :])  # Use last timestep's output\n",
        "        return out.unsqueeze(-1)  # Add output dimension (batch, 28800, 1)"
      ]
    },
    {
      "cell_type": "code",
      "execution_count": 28,
      "id": "aaeba433-635b-44b0-9c71-7978d8984a5a",
      "metadata": {
        "id": "aaeba433-635b-44b0-9c71-7978d8984a5a",
        "colab": {
          "base_uri": "https://localhost:8080/"
        },
        "outputId": "7e3feb15-1b10-4e41-a454-7760929389b4"
      },
      "outputs": [
        {
          "output_type": "stream",
          "name": "stderr",
          "text": [
            "/usr/local/lib/python3.11/dist-packages/torch/nn/modules/rnn.py:123: UserWarning: dropout option adds dropout after all but last recurrent layer, so non-zero dropout expects num_layers greater than 1, but got dropout=0.2 and num_layers=1\n",
            "  warnings.warn(\n"
          ]
        }
      ],
      "source": [
        "device = torch.device('cuda' if torch.cuda.is_available() else 'cpu')\n",
        "model = ADTForecaster().to(device)"
      ]
    },
    {
      "cell_type": "code",
      "execution_count": 29,
      "id": "c94a730e-a37b-4f94-bbfc-88d1fed31f26",
      "metadata": {
        "id": "c94a730e-a37b-4f94-bbfc-88d1fed31f26"
      },
      "outputs": [],
      "source": [
        "criterion = nn.MSELoss()\n",
        "optimizer = optim.Adam(model.parameters(), lr=0.0005, weight_decay=1e-5)\n",
        "scheduler = optim.lr_scheduler.ReduceLROnPlateau(optimizer, patience=3, factor=0.5)"
      ]
    },
    {
      "cell_type": "code",
      "execution_count": 31,
      "id": "6e4a29dc-4986-4cd6-802d-cf01a2148368",
      "metadata": {
        "colab": {
          "base_uri": "https://localhost:8080/"
        },
        "id": "6e4a29dc-4986-4cd6-802d-cf01a2148368",
        "outputId": "311d92ea-054f-4028-d2c8-292b3a9279e3"
      },
      "outputs": [
        {
          "output_type": "stream",
          "name": "stdout",
          "text": [
            "Epoch 01 | Train Loss: 0.0243 | Val Loss: 0.1489\n",
            "Epoch 02 | Train Loss: 0.0160 | Val Loss: 0.0683\n",
            "Epoch 03 | Train Loss: 0.0054 | Val Loss: 0.0328\n",
            "Epoch 04 | Train Loss: 0.0024 | Val Loss: 0.0067\n",
            "Epoch 05 | Train Loss: 0.0013 | Val Loss: 0.0057\n",
            "Epoch 06 | Train Loss: 0.0011 | Val Loss: 0.0055\n",
            "Epoch 07 | Train Loss: 0.0010 | Val Loss: 0.0051\n",
            "Epoch 08 | Train Loss: 0.0010 | Val Loss: 0.0055\n",
            "Epoch 09 | Train Loss: 0.0010 | Val Loss: 0.0051\n",
            "Epoch 10 | Train Loss: 0.0010 | Val Loss: 0.0053\n",
            "Epoch 11 | Train Loss: 0.0010 | Val Loss: 0.0051\n",
            "Epoch 12 | Train Loss: 0.0009 | Val Loss: 0.0052\n",
            "Early stopping\n"
          ]
        }
      ],
      "source": [
        "accumulation_steps = 8\n",
        "\n",
        "# Training Loop\n",
        "def train_model(model, train_loader, val_loader, epochs=50):\n",
        "    best_val_loss = float('inf')\n",
        "    for epoch in range(epochs):\n",
        "        model.train()\n",
        "        train_loss = 0\n",
        "        optimizer.zero_grad()\n",
        "\n",
        "        for i, (batch_x, batch_y) in enumerate(train_loader):\n",
        "            batch_x, batch_y = batch_x.to(device), batch_y.to(device)\n",
        "\n",
        "            outputs = model(batch_x)\n",
        "            loss = criterion(outputs, batch_y) / accumulation_steps\n",
        "            loss.backward()\n",
        "\n",
        "            if (i + 1) % (accumulation_steps *10) == 0:\n",
        "                torch.nn.utils.clip_grad_norm_(model.parameters(), 1.0)\n",
        "                optimizer.step()\n",
        "                optimizer.zero_grad()\n",
        "\n",
        "            train_loss += loss.item() * batch_x.size(0)\n",
        "\n",
        "        # Validation\n",
        "        val_loss = 0\n",
        "        model.eval()\n",
        "        with torch.no_grad():\n",
        "            for batch_x, batch_y in val_loader:\n",
        "                batch_x, batch_y = batch_x.to(device), batch_y.to(device)\n",
        "                outputs = model(batch_x)\n",
        "                val_loss += criterion(outputs, batch_y).item() * batch_x.size(0)\n",
        "\n",
        "        # Update learning rate\n",
        "        scheduler.step(val_loss)\n",
        "\n",
        "        # Print progress\n",
        "        train_loss = train_loss / len(train_loader.dataset)\n",
        "        val_loss = val_loss / len(val_loader.dataset)\n",
        "        print(f'Epoch {epoch+1:02} | Train Loss: {train_loss:.4f} | Val Loss: {val_loss:.4f}')\n",
        "\n",
        "        # Early stopping\n",
        "        if val_loss < best_val_loss:\n",
        "            best_val_loss = val_loss\n",
        "            torch.save(model.state_dict(), 'best_model.pth')\n",
        "            patience = 0\n",
        "        else:\n",
        "            patience += 1\n",
        "            if patience >= 5:\n",
        "                print(\"Early stopping\")\n",
        "                break\n",
        "train_model(model, train_dataloader, test_dataloader, epochs=50)"
      ]
    },
    {
      "cell_type": "markdown",
      "source": [
        "# Evalutation with 10%"
      ],
      "metadata": {
        "id": "qyHCh4IIEFy_"
      },
      "id": "qyHCh4IIEFy_"
    },
    {
      "cell_type": "code",
      "source": [
        "def evaluate_model(model, test_loader, scaler):\n",
        "    model.eval()\n",
        "    predictions = []\n",
        "    actuals = []\n",
        "\n",
        "    with torch.no_grad():\n",
        "        for batch_x, batch_y in test_loader:\n",
        "            batch_x, batch_y = batch_x.to(device), batch_y.to(device)\n",
        "            outputs = model(batch_x)\n",
        "\n",
        "            outputs = outputs.squeeze(-1).cpu().numpy()\n",
        "            batch_y = batch_y.squeeze(-1).cpu().numpy()\n",
        "\n",
        "            outputs = outputs.T\n",
        "            batch_y = batch_y.T\n",
        "\n",
        "            outputs_denorm = scaler.inverse_transform(outputs[:1254, :].T)\n",
        "            targets_denorm = scaler.inverse_transform(batch_y[:1254, :].T)\n",
        "\n",
        "            predictions.append(outputs_denorm)\n",
        "            actuals.append(targets_denorm)\n",
        "\n",
        "    predictions = np.vstack(predictions)\n",
        "    actuals = np.vstack(actuals)\n",
        "\n",
        "    rmse = np.sqrt(mean_squared_error(actuals, predictions))\n",
        "    mae = mean_absolute_error(actuals, predictions)\n",
        "\n",
        "    print(f'Test RMSE: {rmse:.4f}')\n",
        "    print(f'Test MAE: {mae:.4f}')\n",
        "\n",
        "evaluate_model(model, evaluate_dataloader, scaler)\n"
      ],
      "metadata": {
        "colab": {
          "base_uri": "https://localhost:8080/"
        },
        "id": "NaLxbxbSEOt5",
        "outputId": "b2cd4319-bf22-408d-f247-4bf1d358fca4"
      },
      "id": "NaLxbxbSEOt5",
      "execution_count": 35,
      "outputs": [
        {
          "output_type": "stream",
          "name": "stdout",
          "text": [
            "Test RMSE: 0.0717\n",
            "Test MAE: 0.0563\n"
          ]
        }
      ]
    },
    {
      "cell_type": "code",
      "source": [
        "def evaluate_accuracy(model, test_loader, scaler):\n",
        "    model.eval()\n",
        "    predictions = []\n",
        "    actuals = []\n",
        "\n",
        "    with torch.no_grad():\n",
        "        for batch_x, batch_y in test_loader:\n",
        "            batch_x, batch_y = batch_x.to(device), batch_y.to(device)\n",
        "            outputs = model(batch_x)\n",
        "\n",
        "            outputs = outputs.squeeze(-1).cpu().numpy()\n",
        "            batch_y = batch_y.squeeze(-1).cpu().numpy()\n",
        "\n",
        "            outputs_fixed = outputs[:, :1254]\n",
        "            batch_y_fixed = batch_y[:, :1254]\n",
        "\n",
        "            outputs_denorm = scaler.inverse_transform(outputs_fixed)\n",
        "            targets_denorm = scaler.inverse_transform(batch_y_fixed)\n",
        "\n",
        "            predictions.append(outputs_denorm)\n",
        "            actuals.append(targets_denorm)\n",
        "\n",
        "    predictions = np.vstack(predictions)\n",
        "    actuals = np.vstack(actuals)\n",
        "\n",
        "    mae = mean_absolute_error(actuals, predictions)\n",
        "\n",
        "    mean_actual = np.mean(np.abs(actuals))\n",
        "\n",
        "    # Compute Accuracy\n",
        "    accuracy = max(0, 100 - (mae / mean_actual * 100))\n",
        "\n",
        "    print(f\"Test Accuracy: {accuracy:.2f}%\")\n",
        "\n",
        "evaluate_accuracy(model, evaluate_dataloader, scaler)"
      ],
      "metadata": {
        "colab": {
          "base_uri": "https://localhost:8080/"
        },
        "id": "PvYXjAhZEKUZ",
        "outputId": "f8ab8c5d-8af3-4036-8593-6ba42db6109d"
      },
      "id": "PvYXjAhZEKUZ",
      "execution_count": 36,
      "outputs": [
        {
          "output_type": "stream",
          "name": "stdout",
          "text": [
            "Test Accuracy: 93.46%\n"
          ]
        }
      ]
    },
    {
      "cell_type": "markdown",
      "source": [
        "Testing data Evaluation"
      ],
      "metadata": {
        "id": "M1gMb0DoEakL"
      },
      "id": "M1gMb0DoEakL"
    },
    {
      "cell_type": "code",
      "source": [
        "def evaluate_model(model, test_loader, scaler):\n",
        "    model.eval()\n",
        "    predictions = []\n",
        "    actuals = []\n",
        "\n",
        "    with torch.no_grad():\n",
        "        for batch_x, batch_y in test_loader:\n",
        "            batch_x, batch_y = batch_x.to(device), batch_y.to(device)\n",
        "            outputs = model(batch_x)\n",
        "\n",
        "            outputs = outputs.squeeze(-1).cpu().numpy()\n",
        "            batch_y = batch_y.squeeze(-1).cpu().numpy()\n",
        "\n",
        "            outputs = outputs.T\n",
        "            batch_y = batch_y.T\n",
        "\n",
        "            outputs_denorm = scaler.inverse_transform(outputs[:1254, :].T)\n",
        "            targets_denorm = scaler.inverse_transform(batch_y[:1254, :].T)\n",
        "\n",
        "            predictions.append(outputs_denorm)\n",
        "            actuals.append(targets_denorm)\n",
        "\n",
        "    predictions = np.vstack(predictions)\n",
        "    actuals = np.vstack(actuals)\n",
        "\n",
        "    # Compute evaluation metrics\n",
        "    rmse = np.sqrt(mean_squared_error(actuals, predictions))\n",
        "    mae = mean_absolute_error(actuals, predictions)\n",
        "\n",
        "    print(f'Test RMSE: {rmse:.4f}')\n",
        "    print(f'Test MAE: {mae:.4f}')\n",
        "\n",
        "evaluate_model(model, test_dataloader, scaler)\n"
      ],
      "metadata": {
        "id": "uMKi_NaSw4km",
        "colab": {
          "base_uri": "https://localhost:8080/"
        },
        "outputId": "6ee5bd4d-4a3b-4584-9c79-b33312b821fc"
      },
      "id": "uMKi_NaSw4km",
      "execution_count": 32,
      "outputs": [
        {
          "output_type": "stream",
          "name": "stdout",
          "text": [
            "Test RMSE: 0.0660\n",
            "Test MAE: 0.0521\n"
          ]
        }
      ]
    },
    {
      "cell_type": "code",
      "source": [
        "def evaluate_accuracy(model, test_loader, scaler):\n",
        "    model.eval()\n",
        "    predictions = []\n",
        "    actuals = []\n",
        "\n",
        "    with torch.no_grad():\n",
        "        for batch_x, batch_y in test_loader:\n",
        "            batch_x, batch_y = batch_x.to(device), batch_y.to(device)\n",
        "            outputs = model(batch_x)\n",
        "\n",
        "            outputs = outputs.squeeze(-1).cpu().numpy()\n",
        "            batch_y = batch_y.squeeze(-1).cpu().numpy()\n",
        "\n",
        "            outputs_fixed = outputs[:, :1254]\n",
        "            batch_y_fixed = batch_y[:, :1254]\n",
        "\n",
        "            outputs_denorm = scaler.inverse_transform(outputs_fixed)\n",
        "            targets_denorm = scaler.inverse_transform(batch_y_fixed)\n",
        "\n",
        "            predictions.append(outputs_denorm)\n",
        "            actuals.append(targets_denorm)\n",
        "\n",
        "    predictions = np.vstack(predictions)\n",
        "    actuals = np.vstack(actuals)\n",
        "\n",
        "    mae = mean_absolute_error(actuals, predictions)\n",
        "\n",
        "    mean_actual = np.mean(np.abs(actuals))\n",
        "\n",
        "    accuracy = max(0, 100 - (mae / mean_actual * 100))\n",
        "\n",
        "    print(f\"Test Accuracy: {accuracy:.2f}%\")\n",
        "\n",
        "evaluate_accuracy(model, test_dataloader, scaler)"
      ],
      "metadata": {
        "colab": {
          "base_uri": "https://localhost:8080/"
        },
        "id": "kc2POhm9aAFu",
        "outputId": "84a1faa8-73e7-4659-e1aa-8fe8c01ec9bc"
      },
      "id": "kc2POhm9aAFu",
      "execution_count": 33,
      "outputs": [
        {
          "output_type": "stream",
          "name": "stdout",
          "text": [
            "Test Accuracy: 93.94%\n"
          ]
        }
      ]
    },
    {
      "cell_type": "markdown",
      "source": [
        "Checking for overfitting"
      ],
      "metadata": {
        "id": "kzESBLHWE2vX"
      },
      "id": "kzESBLHWE2vX"
    },
    {
      "cell_type": "code",
      "source": [
        "def evaluate_accuracy(model, test_loader, scaler):\n",
        "    model.eval()\n",
        "    predictions = []\n",
        "    actuals = []\n",
        "\n",
        "    with torch.no_grad():\n",
        "        for batch_x, batch_y in test_loader:\n",
        "            batch_x, batch_y = batch_x.to(device), batch_y.to(device)\n",
        "            outputs = model(batch_x)\n",
        "\n",
        "            outputs = outputs.squeeze(-1).cpu().numpy()\n",
        "            batch_y = batch_y.squeeze(-1).cpu().numpy()\n",
        "\n",
        "            outputs_fixed = outputs[:, :1254]\n",
        "            batch_y_fixed = batch_y[:, :1254]\n",
        "\n",
        "            outputs_denorm = scaler.inverse_transform(outputs_fixed)\n",
        "            targets_denorm = scaler.inverse_transform(batch_y_fixed)\n",
        "\n",
        "            predictions.append(outputs_denorm)\n",
        "            actuals.append(targets_denorm)\n",
        "\n",
        "    predictions = np.vstack(predictions)\n",
        "    actuals = np.vstack(actuals)\n",
        "\n",
        "    mae = mean_absolute_error(actuals, predictions)\n",
        "\n",
        "    mean_actual = np.mean(np.abs(actuals))\n",
        "\n",
        "    # Compute Accuracy\n",
        "    accuracy = max(0, 100 - (mae / mean_actual * 100))\n",
        "\n",
        "    print(f\"Test Accuracy: {accuracy:.2f}%\")\n",
        "\n",
        "evaluate_accuracy(model, train_dataloader, scaler)"
      ],
      "metadata": {
        "colab": {
          "base_uri": "https://localhost:8080/"
        },
        "id": "VTTyeOcenHsB",
        "outputId": "f249cd5d-0b0a-451f-83ae-5107055a4cb9"
      },
      "id": "VTTyeOcenHsB",
      "execution_count": 34,
      "outputs": [
        {
          "output_type": "stream",
          "name": "stdout",
          "text": [
            "Test Accuracy: 93.79%\n"
          ]
        }
      ]
    },
    {
      "cell_type": "markdown",
      "source": [
        "training data, testinga data and evaluation data: all accuracy are similar hence model is perfect."
      ],
      "metadata": {
        "id": "eYKC8U2NFOZD"
      },
      "id": "eYKC8U2NFOZD"
    }
  ],
  "metadata": {
    "kernelspec": {
      "display_name": "Python 3",
      "name": "python3"
    },
    "language_info": {
      "codemirror_mode": {
        "name": "ipython",
        "version": 3
      },
      "file_extension": ".py",
      "mimetype": "text/x-python",
      "name": "python",
      "nbconvert_exporter": "python",
      "pygments_lexer": "ipython3",
      "version": "3.12.7"
    },
    "colab": {
      "provenance": [],
      "gpuType": "T4"
    },
    "accelerator": "GPU"
  },
  "nbformat": 4,
  "nbformat_minor": 5
}